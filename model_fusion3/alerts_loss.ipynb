{
 "cells": [
  {
   "cell_type": "code",
   "execution_count": null,
   "metadata": {},
   "outputs": [],
   "source": [
    "'''\n",
    "对某个站点的 运行 进行健康评估\n",
    "输入：站点名称site_id\n",
    "输出：该站点所有设备的告警分数 score_dict 以及该站点的告警总分数 score_total\n",
    "'''\n",
    "\n",
    "import numpy as np \n",
    "import datetime\n",
    "\n",
    "# 输入：站点名称site_id\n",
    "# 输出：该站点的告警总分数score_total\n",
    "\n",
    "def alert_score(site_id,equip_data,tank_alerts,now_date,check_arrange_day,alert_1,alert_2,alert_3):\n",
    "    score_dict = {}\n",
    "    score_arr = []\n",
    "    ### 设备集合中，有可能设备没有id号，是NAN值，这时默认是一个设备，要加入分数计算，但无需计算权重\n",
    "    device_data = equip_data[equip_data['site_id'] == site_id]['device_id'].unique()\n",
    "    print(device_data)\n",
    "    ### 对每个设备进行告警分数计算\n",
    "    for i in range(len(device_data)):\n",
    "        alerts_data = tank_alerts[tank_alerts['device_id'] == device_data[i]]\n",
    "        end_date = str(now_date)\n",
    "        start_date = str(now_date - datetime.timedelta(days = check_arrange_day))\n",
    "        alerts_range_data = alerts_data[(alerts_data['start_time'] < end_date) \n",
    "                                    & (start_date < alerts_data['start_time'])]\n",
    "        level_id = alerts_range_data['level'].values\n",
    "        n1,n2,n3 = 0,0,0\n",
    "        for j in level_id:\n",
    "            if j == 'alarm':\n",
    "                n1 += 1\n",
    "            elif j == 'critical':\n",
    "                n2 += 1\n",
    "            elif j == 'major':\n",
    "                n3 += 1\n",
    "        score_dict[str(device_data[i])] = (max(0,100 - alert_1*n1 - alert_2*n2 - alert_3*n3))\n",
    "        score_arr.append(max(0,100 - alert_1*n1 - alert_2*n2 - alert_3*n3))\n",
    "    score_total = np.array(score_arr).sum()/(len(score_arr))\n",
    "    return score_total"
   ]
  }
 ],
 "metadata": {
  "kernelspec": {
   "display_name": "Python 3",
   "language": "python",
   "name": "python3"
  },
  "language_info": {
   "codemirror_mode": {
    "name": "ipython",
    "version": 3
   },
   "file_extension": ".py",
   "mimetype": "text/x-python",
   "name": "python",
   "nbconvert_exporter": "python",
   "pygments_lexer": "ipython3",
   "version": "3.6.5"
  }
 },
 "nbformat": 4,
 "nbformat_minor": 2
}
